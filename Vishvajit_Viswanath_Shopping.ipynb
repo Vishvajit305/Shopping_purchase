{
  "nbformat": 4,
  "nbformat_minor": 0,
  "metadata": {
    "colab": {
      "name": "Vishvajit_Viswanath_Shopping.ipynb",
      "provenance": [],
      "collapsed_sections": []
    },
    "kernelspec": {
      "name": "python3",
      "display_name": "Python 3"
    },
    "language_info": {
      "name": "python"
    },
    "accelerator": "GPU"
  },
  "cells": [
    {
      "cell_type": "code",
      "metadata": {
        "id": "0JL455wqbYVv"
      },
      "source": [
        "x={\"Munch\":{\"ID\":1,\"Type\":\"Chocolate\",\"Cost Type\":[5,10,20],\"Available Amount\":[100,100,100],\"Discount\":0.01},\n",
        "       \"Lays\":{\"ID\":2,\"Type\":\"Chocolate\",\"Cost Type\":[5,10,20],\"Available Amount\":[100,100,100],\"Discount\":0.01},\n",
        "       \"Milkybar\":{\"ID\":3,\"Type\":\"Chocolate\",\"Cost Type\":[5,10,20],\"Available Amount\":[100,100,100],\"Discount\":0.01},\n",
        "       \"Dairy Milk\":{\"ID\":4,\"Type\":\"Chocolate\",\"Cost Type\":[5,10,45,70],\"Available Amount\":[100,100,100,100],\"Discount\":0.01},\n",
        "       \"5 Star\":{\"ID\":5,\"Type\":\"Chocolate\",\"Cost Type\":[5,10,20,50],\"Available Amount\":[100,100,100,100],\"Discount\":0.01},\n",
        "       \"Kit Kat\":{\"ID\":6,\"Type\":\"Chocolate\",\"Cost Type\":[5,10,20],\"Available Amount\":[100,100,100],\"Discount\":0.01},\n",
        "       \"Mars\":{\"ID\":7,\"Type\":\"Chocolate\",\"Cost Type\":[10,20,50],\"Available Amount\":[100,100,100],\"Discount\":0.01},\n",
        "       \"Bounty\":{\"ID\":8,\"Type\":\"Chocolate\",\"Cost Type\":[10,20,50],\"Available Amount\":[100,100,100],\"Discount\":0.01},\n",
        "       \"Snickers\":{\"ID\":9,\"Type\":\"Chocolate\",\"Cost Type\":[10,20,50],\"Available Amount\":[100,100,100],\"Discount\":0.01},\n",
        "       \"Toblerone\":{\"ID\":10,\"Type\":\"Chocolate\",\"Cost Type\":[90],\"Available Amount\":[100],\"Discount\":0.01},\n",
        "       \"Amul Chocolate\":{\"ID\":11,\"Type\":\"Chocolate\",\"Cost Type\":[50,100],\"Available Amount\":[100,100],\"Discount\":0.01},\n",
        "       \"Lotte Chocopie\":{\"ID\":12,\"Type\":\"Chocolate\",\"Cost Type\":[10,50,150],\"Available Amount\":[100,100,100],\"Discount\":0.01},\n",
        "       \"Dark Fantasy\":{\"ID\":13,\"Type\":\"Chocolate\",\"Cost Type\":[10,50,150],\"Available Amount\":[100,100,100],\"Discount\":0.01},\n",
        "       \"Perk\":{\"ID\":14,\"Type\":\"Chocolate\",\"Cost Type\":[5,10],\"Available Amount\":[100,100],\"Discount\":0.01},\n",
        "       \"Fabelle Chocolate\":{\"ID\":15,\"Type\":\"Chocolate\",\"Cost Type\":[45,70,105],\"Available Amount\":[100,100,100],\"Discount\":0.01},       \n",
        "\n",
        "       \"Oreo\":{\"ID\":16,\"Type\":\"Biscuits\",\"Cost Type\":[5,10,20,50],\"Available Amount\":[100,100,100,100],\"Discount\":0.02}, \n",
        "       \"Sunfeast Bounce\":{\"ID\":17,\"Type\":\"Biscuits\",\"Cost Type\":[5,10,20],\"Available Amount\":[100,100,100],\"Discount\":0.02}, \n",
        "       \"Parle-G\":{\"ID\":18,\"Type\":\"Biscuits\",\"Cost Type\":[3,10,20,30],\"Available Amount\":[100,100,100,100],\"Discount\":0.02}, \n",
        "       \"Unibic\":{\"ID\":19,\"Type\":\"Biscuits\",\"Cost Type\":[10,20,50],\"Available Amount\":[100,100,100],\"Discount\":0.02}, \n",
        "       \"Marie Gold\":{\"ID\":20,\"Type\":\"Biscuits\",\"Cost Type\":[5,10,20,50],\"Available Amount\":[100,100,100,100],\"Discount\":0.02}, \n",
        "       \"Butter Cremica\":{\"ID\":21,\"Type\":\"Biscuits\",\"Cost Type\":[5,10,20,50],\"Available Amount\":[100,100,100,100],\"Discount\":0.02}, \n",
        "       \"Bisk Farm\":{\"ID\":22,\"Type\":\"Biscuits\",\"Cost Type\":[10,20,50],\"Available Amount\":[100,100,100],\"Discount\":0.02}, \n",
        "       \"Horlicks Biscuit\":{\"ID\":23,\"Type\":\"Biscuits\",\"Cost Type\":[10,20,50],\"Available Amount\":[100,100,100],\"Discount\":0.02}, \n",
        "       \"Milkbikis\":{\"ID\":24,\"Type\":\"Biscuits\",\"Cost Type\":[5,10,20,50],\"Available Amount\":[100,100,100,100],\"Discount\":0.02}, \n",
        "       \"Krackjack\":{\"ID\":25,\"Type\":\"Biscuits\",\"Cost Type\":[5,10,20,50],\"Available Amount\":[100,100,100,100],\"Discount\":0.02}, \n",
        "       \"Monaco-Salted Craker\":{\"ID\":26,\"Type\":\"Biscuits\",\"Cost Type\":[5,10,20,50],\"Available Amount\":[100,100,100,100],\"Discount\":0.02}, \n",
        "       \"Happy Happy\":{\"ID\":27,\"Type\":\"Biscuits\",\"Cost Type\":[5,10,20],\"Available Amount\":[100,100,100],\"Discount\":0.02}, \n",
        "       \"Hide & Seek\":{\"ID\":28,\"Type\":\"Biscuits\",\"Cost Type\":[5,10,20,50],\"Available Amount\":[100,100,100,100],\"Discount\":0.02}, \n",
        "       \"Festo\":{\"ID\":29,\"Type\":\"Biscuits\",\"Cost Type\":[10,20,50],\"Available Amount\":[100,100,100],\"Discount\":0.02}, \n",
        "       \"Milk Shakti\":{\"ID\":30,\"Type\":\"Biscuits\",\"Cost Type\":[5,10,50],\"Available Amount\":[100,100,100],\"Discount\":0.02}, \n",
        "\n",
        "       }"
      ],
      "execution_count": 13,
      "outputs": []
    },
    {
      "cell_type": "code",
      "metadata": {
        "id": "Pl1ZN2sb93FF"
      },
      "source": [
        "import json"
      ],
      "execution_count": 14,
      "outputs": []
    },
    {
      "cell_type": "code",
      "metadata": {
        "id": "e9Ujid7V9_E_"
      },
      "source": [
        "js=json.dumps(x)"
      ],
      "execution_count": 15,
      "outputs": []
    },
    {
      "cell_type": "code",
      "metadata": {
        "id": "OwStGdF1-Ka6"
      },
      "source": [
        "fd= open(\"Morning_items.json\",\"w\")\n",
        "fd.write(js)\n",
        "fd.close()"
      ],
      "execution_count": 16,
      "outputs": []
    },
    {
      "cell_type": "code",
      "metadata": {
        "id": "AeQW-HhR-ZWG"
      },
      "source": [
        "fd= open(\"Morning_items.json\",\"r\")\n",
        "txt= fd.read()\n",
        "fd.close()"
      ],
      "execution_count": 17,
      "outputs": []
    },
    {
      "cell_type": "code",
      "metadata": {
        "id": "JXp1SLql-75X"
      },
      "source": [
        "items= json.loads(txt)"
      ],
      "execution_count": 18,
      "outputs": []
    },
    {
      "cell_type": "code",
      "metadata": {
        "id": "rGla8z0i_O8f"
      },
      "source": [
        "import time\n"
      ],
      "execution_count": 19,
      "outputs": []
    },
    {
      "cell_type": "markdown",
      "metadata": {
        "id": "X-JODtD1T8xm"
      },
      "source": [
        "Purchasing Time:"
      ]
    },
    {
      "cell_type": "code",
      "metadata": {
        "id": "79HnWpUi_RRc"
      },
      "source": [
        "def purchase():  \n",
        "  pay=0\n",
        "  savings=0\n",
        "  while(1):\n",
        "        for i in items:\n",
        "                print(items[i][\"ID\"],i,sep=\": \")\n",
        "\n",
        "        while(1):\n",
        "                try:\n",
        "                      thing=input(\"Enter the item you want: \").strip()\n",
        "                      print(f'''Type: {items[thing][\"Type\"]}''')\n",
        "                      break\n",
        "                except:\n",
        "                      print(\"Enter as shown in that list please :)\")\n",
        "        print(f'''At what price: {items[thing][\"Cost Type\"]}''')\n",
        "\n",
        "        while(1):\n",
        "                cost=int(input(\"Enter the price: \"))              \n",
        "                if(cost in items[thing][\"Cost Type\"]):\n",
        "                      index=items[thing][\"Cost Type\"].index(cost)\n",
        "                      break\n",
        "                else:\n",
        "                      print(\"Enter as shown in that list please :)\")\n",
        "        \n",
        "        quantity=int(input(\"How many do you want?: \"))\n",
        "        if(items[thing][\"Available Amount\"][index]>=quantity):\n",
        "                Total=(items[thing][\"Cost Type\"][index]*quantity)\n",
        "                Discount=(items[thing][\"Cost Type\"][index]*quantity)*items[thing][\"Discount\"]\n",
        "                pay+=(Total-Discount)\n",
        "                savings+=Discount\n",
        "                items[thing][\"Available Amount\"][index]-=quantity\n",
        "        else:\n",
        "                print(f'''We have only {items[thing][\"Available Amount\"][index]} amount of items, would you like to buy?!''')\n",
        "                if(input(\"Enter yes or no: \").strip().lower()=='yes'):\n",
        "                      Total=(items[thing][\"Cost Type\"][index]*items[thing][\"Available Amount\"][index])\n",
        "                      Discount=(items[thing][\"Cost Type\"][index]*items[thing][\"Available Amount\"][index])*items[thing][\"Discount\"]\n",
        "                      pay+=(Total-Discount)\n",
        "                      savings+=Discount\n",
        "                      items[thing][\"Available Amount\"][index]=0\n",
        "                else:\n",
        "                      print(\"We will get the requirement as soon as possible\")\n",
        "        \n",
        "        if(input(\"Would you like to buy anything else?! Enter yes or no: \").strip().lower()=='no'):\n",
        "                break\n",
        "        else:\n",
        "                pass\n",
        "  print(f\"The total amount to pay: {pay}\")\n",
        "  print(f\"The amount you saved :{savings} :)\")\n",
        "  print(\"The person purchased these items in the timing\",end=' ')\n",
        "  print(time.ctime())"
      ],
      "execution_count": 20,
      "outputs": []
    },
    {
      "cell_type": "code",
      "metadata": {
        "colab": {
          "base_uri": "https://localhost:8080/"
        },
        "id": "WUU2eO2zV2wz",
        "outputId": "dfdce879-0821-4434-b1fa-0b8f8f42bc23"
      },
      "source": [
        "count=1\n",
        "while(1):\n",
        "  print(f\"Welcome Customer {count} !!! How can I help you?\")\n",
        "  purchase()\n",
        "  if(input(\"Is there any other customer coming?! yes or no?\").strip().lower()=='no'):\n",
        "    break\n",
        "  count+=1"
      ],
      "execution_count": 21,
      "outputs": [
        {
          "name": "stdout",
          "output_type": "stream",
          "text": [
            "Welcome Customer 1 !!! How can I help you?\n",
            "1: Munch\n",
            "2: Lays\n",
            "3: Milkybar\n",
            "4: Dairy Milk\n",
            "5: 5 Star\n",
            "6: Kit Kat\n",
            "7: Mars\n",
            "8: Bounty\n",
            "9: Snickers\n",
            "10: Toblerone\n",
            "11: Amul Chocolate\n",
            "12: Lotte Chocopie\n",
            "13: Dark Fantasy\n",
            "14: Perk\n",
            "15: Fabelle Chocolate\n",
            "16: Oreo\n",
            "17: Sunfeast Bounce\n",
            "18: Parle-G\n",
            "19: Unibic\n",
            "20: Marie Gold\n",
            "21: Butter Cremica\n",
            "22: Bisk Farm\n",
            "23: Horlicks Biscuit\n",
            "24: Milkbikis\n",
            "25: Krackjack\n",
            "26: Monaco-Salted Craker\n",
            "27: Happy Happy\n",
            "28: Hide & Seek\n",
            "29: Festo\n",
            "30: Milk Shakti\n",
            "Enter the item you want: Unibic\n",
            "Type: Biscuits\n",
            "At what price: [10, 20, 50]\n",
            "Enter the price: 20\n",
            "How many do you want?: 100\n",
            "Would you like to buy anything else?! Enter yes or no: no\n",
            "The total amount to pay: 1960.0\n",
            "The amount you saved :40.0 :)\n",
            "The person purchased these items in the timing Thu Sep  2 13:27:50 2021\n",
            "Is there any other customer coming?! yes or no?no\n"
          ]
        }
      ]
    },
    {
      "cell_type": "code",
      "metadata": {
        "id": "nGMcLjGJoPEW"
      },
      "source": [
        "js=json.dumps(items)\n",
        "fd= open(\"Night_items.json\",\"w\")\n",
        "fd.write(js)\n",
        "fd.close()"
      ],
      "execution_count": 22,
      "outputs": []
    },
    {
      "cell_type": "code",
      "metadata": {
        "id": "HSVKKO3tob33"
      },
      "source": [
        "fd= open(\"Night_items.json\",\"r\")\n",
        "txt= fd.read()\n",
        "fd.close()"
      ],
      "execution_count": 23,
      "outputs": []
    },
    {
      "cell_type": "code",
      "metadata": {
        "colab": {
          "base_uri": "https://localhost:8080/",
          "height": 625
        },
        "id": "k6Yq_dy-pybj",
        "outputId": "b598f79b-18ed-422f-fa59-aad3873f4ee9"
      },
      "source": [
        "txt"
      ],
      "execution_count": 24,
      "outputs": [
        {
          "output_type": "execute_result",
          "data": {
            "application/vnd.google.colaboratory.intrinsic+json": {
              "type": "string"
            },
            "text/plain": [
              "'{\"Munch\": {\"ID\": 1, \"Type\": \"Chocolate\", \"Cost Type\": [5, 10, 20], \"Available Amount\": [100, 100, 100], \"Discount\": 0.01}, \"Lays\": {\"ID\": 2, \"Type\": \"Chocolate\", \"Cost Type\": [5, 10, 20], \"Available Amount\": [100, 100, 100], \"Discount\": 0.01}, \"Milkybar\": {\"ID\": 3, \"Type\": \"Chocolate\", \"Cost Type\": [5, 10, 20], \"Available Amount\": [100, 100, 100], \"Discount\": 0.01}, \"Dairy Milk\": {\"ID\": 4, \"Type\": \"Chocolate\", \"Cost Type\": [5, 10, 45, 70], \"Available Amount\": [100, 100, 100, 100], \"Discount\": 0.01}, \"5 Star\": {\"ID\": 5, \"Type\": \"Chocolate\", \"Cost Type\": [5, 10, 20, 50], \"Available Amount\": [100, 100, 100, 100], \"Discount\": 0.01}, \"Kit Kat\": {\"ID\": 6, \"Type\": \"Chocolate\", \"Cost Type\": [5, 10, 20], \"Available Amount\": [100, 100, 100], \"Discount\": 0.01}, \"Mars\": {\"ID\": 7, \"Type\": \"Chocolate\", \"Cost Type\": [10, 20, 50], \"Available Amount\": [100, 100, 100], \"Discount\": 0.01}, \"Bounty\": {\"ID\": 8, \"Type\": \"Chocolate\", \"Cost Type\": [10, 20, 50], \"Available Amount\": [100, 100, 100], \"Discount\": 0.01}, \"Snickers\": {\"ID\": 9, \"Type\": \"Chocolate\", \"Cost Type\": [10, 20, 50], \"Available Amount\": [100, 100, 100], \"Discount\": 0.01}, \"Toblerone\": {\"ID\": 10, \"Type\": \"Chocolate\", \"Cost Type\": [90], \"Available Amount\": [100], \"Discount\": 0.01}, \"Amul Chocolate\": {\"ID\": 11, \"Type\": \"Chocolate\", \"Cost Type\": [50, 100], \"Available Amount\": [100, 100], \"Discount\": 0.01}, \"Lotte Chocopie\": {\"ID\": 12, \"Type\": \"Chocolate\", \"Cost Type\": [10, 50, 150], \"Available Amount\": [100, 100, 100], \"Discount\": 0.01}, \"Dark Fantasy\": {\"ID\": 13, \"Type\": \"Chocolate\", \"Cost Type\": [10, 50, 150], \"Available Amount\": [100, 100, 100], \"Discount\": 0.01}, \"Perk\": {\"ID\": 14, \"Type\": \"Chocolate\", \"Cost Type\": [5, 10], \"Available Amount\": [100, 100], \"Discount\": 0.01}, \"Fabelle Chocolate\": {\"ID\": 15, \"Type\": \"Chocolate\", \"Cost Type\": [45, 70, 105], \"Available Amount\": [100, 100, 100], \"Discount\": 0.01}, \"Oreo\": {\"ID\": 16, \"Type\": \"Biscuits\", \"Cost Type\": [5, 10, 20, 50], \"Available Amount\": [100, 100, 100, 100], \"Discount\": 0.02}, \"Sunfeast Bounce\": {\"ID\": 17, \"Type\": \"Biscuits\", \"Cost Type\": [5, 10, 20], \"Available Amount\": [100, 100, 100], \"Discount\": 0.02}, \"Parle-G\": {\"ID\": 18, \"Type\": \"Biscuits\", \"Cost Type\": [3, 10, 20, 30], \"Available Amount\": [100, 100, 100, 100], \"Discount\": 0.02}, \"Unibic\": {\"ID\": 19, \"Type\": \"Biscuits\", \"Cost Type\": [10, 20, 50], \"Available Amount\": [100, 0, 100], \"Discount\": 0.02}, \"Marie Gold\": {\"ID\": 20, \"Type\": \"Biscuits\", \"Cost Type\": [5, 10, 20, 50], \"Available Amount\": [100, 100, 100, 100], \"Discount\": 0.02}, \"Butter Cremica\": {\"ID\": 21, \"Type\": \"Biscuits\", \"Cost Type\": [5, 10, 20, 50], \"Available Amount\": [100, 100, 100, 100], \"Discount\": 0.02}, \"Bisk Farm\": {\"ID\": 22, \"Type\": \"Biscuits\", \"Cost Type\": [10, 20, 50], \"Available Amount\": [100, 100, 100], \"Discount\": 0.02}, \"Horlicks Biscuit\": {\"ID\": 23, \"Type\": \"Biscuits\", \"Cost Type\": [10, 20, 50], \"Available Amount\": [100, 100, 100], \"Discount\": 0.02}, \"Milkbikis\": {\"ID\": 24, \"Type\": \"Biscuits\", \"Cost Type\": [5, 10, 20, 50], \"Available Amount\": [100, 100, 100, 100], \"Discount\": 0.02}, \"Krackjack\": {\"ID\": 25, \"Type\": \"Biscuits\", \"Cost Type\": [5, 10, 20, 50], \"Available Amount\": [100, 100, 100, 100], \"Discount\": 0.02}, \"Monaco-Salted Craker\": {\"ID\": 26, \"Type\": \"Biscuits\", \"Cost Type\": [5, 10, 20, 50], \"Available Amount\": [100, 100, 100, 100], \"Discount\": 0.02}, \"Happy Happy\": {\"ID\": 27, \"Type\": \"Biscuits\", \"Cost Type\": [5, 10, 20], \"Available Amount\": [100, 100, 100], \"Discount\": 0.02}, \"Hide & Seek\": {\"ID\": 28, \"Type\": \"Biscuits\", \"Cost Type\": [5, 10, 20, 50], \"Available Amount\": [100, 100, 100, 100], \"Discount\": 0.02}, \"Festo\": {\"ID\": 29, \"Type\": \"Biscuits\", \"Cost Type\": [10, 20, 50], \"Available Amount\": [100, 100, 100], \"Discount\": 0.02}, \"Milk Shakti\": {\"ID\": 30, \"Type\": \"Biscuits\", \"Cost Type\": [5, 10, 50], \"Available Amount\": [100, 100, 100], \"Discount\": 0.02}}'"
            ]
          },
          "metadata": {},
          "execution_count": 24
        }
      ]
    },
    {
      "cell_type": "code",
      "metadata": {
        "id": "Vm5zv3jtp1As"
      },
      "source": [
        ""
      ],
      "execution_count": null,
      "outputs": []
    }
  ]
}